{
 "cells": [
  {
   "cell_type": "code",
   "execution_count": 1,
   "id": "breeding-minute",
   "metadata": {},
   "outputs": [],
   "source": [
    "import pandas as pd \n",
    "import matplotlib.pyplot as plt \n",
    "import json"
   ]
  },
  {
   "cell_type": "code",
   "execution_count": 2,
   "id": "compliant-anthropology",
   "metadata": {
    "scrolled": true
   },
   "outputs": [
    {
     "data": {
      "text/html": [
       "<div>\n",
       "<style scoped>\n",
       "    .dataframe tbody tr th:only-of-type {\n",
       "        vertical-align: middle;\n",
       "    }\n",
       "\n",
       "    .dataframe tbody tr th {\n",
       "        vertical-align: top;\n",
       "    }\n",
       "\n",
       "    .dataframe thead th {\n",
       "        text-align: right;\n",
       "    }\n",
       "</style>\n",
       "<table border=\"1\" class=\"dataframe\">\n",
       "  <thead>\n",
       "    <tr style=\"text-align: right;\">\n",
       "      <th></th>\n",
       "      <th>Position Title</th>\n",
       "      <th>Position Location</th>\n",
       "      <th>Team</th>\n",
       "      <th>Category</th>\n",
       "      <th>Position Description</th>\n",
       "      <th>Retrieval Date</th>\n",
       "    </tr>\n",
       "  </thead>\n",
       "  <tbody>\n",
       "    <tr>\n",
       "      <th>0</th>\n",
       "      <td>Data Engineer</td>\n",
       "      <td>Moscow, ID</td>\n",
       "      <td>Corporate</td>\n",
       "      <td>Data and Analytics</td>\n",
       "      <td>We are looking for a highly motivated data eng...</td>\n",
       "      <td>2021-02-18</td>\n",
       "    </tr>\n",
       "    <tr>\n",
       "      <th>1</th>\n",
       "      <td>Product Specialist</td>\n",
       "      <td>Moscow, ID</td>\n",
       "      <td>Higher Education</td>\n",
       "      <td>Product</td>\n",
       "      <td>Provide technical expertise and support to cus...</td>\n",
       "      <td>2021-02-18</td>\n",
       "    </tr>\n",
       "    <tr>\n",
       "      <th>2</th>\n",
       "      <td>Product Manager, Global Job Postings</td>\n",
       "      <td>Moscow, ID</td>\n",
       "      <td>Talent</td>\n",
       "      <td>Product</td>\n",
       "      <td>Emsi is a leader in global labor analytics, he...</td>\n",
       "      <td>2021-02-18</td>\n",
       "    </tr>\n",
       "    <tr>\n",
       "      <th>3</th>\n",
       "      <td>Business Development Representative</td>\n",
       "      <td>Moscow, ID</td>\n",
       "      <td>Talent</td>\n",
       "      <td>Sales</td>\n",
       "      <td>Position Overview  We are looking for talented...</td>\n",
       "      <td>2021-02-18</td>\n",
       "    </tr>\n",
       "    <tr>\n",
       "      <th>4</th>\n",
       "      <td>Marketing Specialist</td>\n",
       "      <td>Moscow, ID</td>\n",
       "      <td>Talent</td>\n",
       "      <td>Marketing</td>\n",
       "      <td>Emsi is searching for a full time (40 hr/week)...</td>\n",
       "      <td>2021-02-18</td>\n",
       "    </tr>\n",
       "  </tbody>\n",
       "</table>\n",
       "</div>"
      ],
      "text/plain": [
       "                         Position Title Position Location              Team  \\\n",
       "0                         Data Engineer       Moscow, ID          Corporate   \n",
       "1                    Product Specialist       Moscow, ID   Higher Education   \n",
       "2  Product Manager, Global Job Postings       Moscow, ID             Talent   \n",
       "3   Business Development Representative       Moscow, ID             Talent   \n",
       "4                  Marketing Specialist       Moscow, ID             Talent   \n",
       "\n",
       "              Category                               Position Description  \\\n",
       "0  Data and Analytics   We are looking for a highly motivated data eng...   \n",
       "1             Product   Provide technical expertise and support to cus...   \n",
       "2             Product   Emsi is a leader in global labor analytics, he...   \n",
       "3               Sales   Position Overview  We are looking for talented...   \n",
       "4           Marketing   Emsi is searching for a full time (40 hr/week)...   \n",
       "\n",
       "  Retrieval Date  \n",
       "0     2021-02-18  \n",
       "1     2021-02-18  \n",
       "2     2021-02-18  \n",
       "3     2021-02-18  \n",
       "4     2021-02-18  "
      ]
     },
     "execution_count": 2,
     "metadata": {},
     "output_type": "execute_result"
    }
   ],
   "source": [
    "emsi_df = pd.read_json('EmsiJobPosts_2021_02_18.json',lines=True)\n",
    "emsi_df = emsi_df.fillna(value='None')\n",
    "emsi_df.head()"
   ]
  },
  {
   "cell_type": "code",
   "execution_count": 3,
   "id": "temporal-fight",
   "metadata": {},
   "outputs": [],
   "source": [
    "emsi_cat_group = emsi_df.groupby(['Category']).count()\n",
    "emsi_team_group = emsi_df.groupby(['Team']).count()"
   ]
  },
  {
   "cell_type": "code",
   "execution_count": 4,
   "id": "antique-boutique",
   "metadata": {},
   "outputs": [
    {
     "data": {
      "image/png": "[encoded data removed]",
      "text/plain": [
       "<Figure size 576x360 with 1 Axes>"
      ]
     },
     "metadata": {
      "needs_background": "light"
     },
     "output_type": "display_data"
    }
   ],
   "source": [
    "fig = plt.figure(figsize=(8, 5))\n",
    "plt.bar(emsi_cat_group['Position Title'].index,emsi_cat_group['Position Title'], color='greenyellow')\n",
    "plt.xticks(rotation=90)\n",
    "plt.title('')\n",
    "plt.xlabel('Job Category')\n",
    "plt.ylabel('Number of Job Titles')\n",
    "plt.rcParams.update({'font.size': 12})\n",
    "plt.show()"
   ]
  },
  {
   "cell_type": "code",
   "execution_count": 5,
   "id": "pending-belize",
   "metadata": {},
   "outputs": [
    {
     "data": {
      "image/png": "[encoded data removed]",
      "text/plain": [
       "<Figure size 576x360 with 1 Axes>"
      ]
     },
     "metadata": {
      "needs_background": "light"
     },
     "output_type": "display_data"
    }
   ],
   "source": [
    "fig = plt.figure(figsize=(8, 5))\n",
    "plt.bar(emsi_team_group['Position Title'].index,emsi_team_group['Position Title'], color='springgreen')\n",
    "plt.xticks(rotation=90)\n",
    "plt.title('')\n",
    "plt.xlabel('Team')\n",
    "plt.ylabel('Number of Job Titles')\n",
    "plt.rcParams.update({'font.size': 12})\n",
    "plt.show()"
   ]
  },
  {
   "cell_type": "code",
   "execution_count": null,
   "id": "twenty-employment",
   "metadata": {},
   "outputs": [],
   "source": []
  }
 ],
 "metadata": {
  "kernelspec": {
   "display_name": "Python 3",
   "language": "python",
   "name": "python3"
  },
  "language_info": {
   "codemirror_mode": {
    "name": "ipython",
    "version": 3
   },
   "file_extension": ".py",
   "mimetype": "text/x-python",
   "name": "python",
   "nbconvert_exporter": "python",
   "pygments_lexer": "ipython3",
   "version": "3.8.5"
  }
 },
 "nbformat": 4,
 "nbformat_minor": 5
}
